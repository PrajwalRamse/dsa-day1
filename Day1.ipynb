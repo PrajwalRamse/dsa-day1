{
 "cells": [
  {
   "cell_type": "code",
   "execution_count": 1,
   "id": "2cc49bad-698c-4607-8903-f3c891d72560",
   "metadata": {},
   "outputs": [
    {
     "name": "stdout",
     "output_type": "stream",
     "text": [
      "[0, 0, 0, 1, 1, 1, 2, 2]\n",
      "[2, 2, 2, 2]\n",
      "[0, 0, 0, 0]\n",
      "[1, 1, 1, 1]\n",
      "[0, 1, 2]\n",
      "[]\n"
     ]
    }
   ],
   "source": [
    "def sort012(arr):\n",
    "    low, mid, high = 0, 0, len(arr) - 1\n",
    "    while mid <= high:\n",
    "        if arr[mid] == 0:\n",
    "            arr[low], arr[mid] = arr[mid], arr[low]\n",
    "            low += 1\n",
    "            mid += 1\n",
    "        elif arr[mid] == 1:\n",
    "            mid += 1\n",
    "        else:  \n",
    "            arr[mid], arr[high] = arr[high], arr[mid]\n",
    "            high -= 1\n",
    "    return arr\n",
    "print(sort012([0, 1, 2, 1, 0, 2, 1, 0]))  \n",
    "print(sort012([2, 2, 2, 2]))             \n",
    "print(sort012([0, 0, 0, 0]))              \n",
    "print(sort012([1, 1, 1, 1]))              \n",
    "print(sort012([2, 0, 1]))                 \n",
    "print(sort012([]))                         "
   ]
  },
  {
   "cell_type": "code",
   "execution_count": null,
   "id": "93ce029c-0d99-41c6-b5aa-cdf224dcc5b2",
   "metadata": {},
   "outputs": [],
   "source": []
  }
 ],
 "metadata": {
  "kernelspec": {
   "display_name": "Python 3 (ipykernel)",
   "language": "python",
   "name": "python3"
  },
  "language_info": {
   "codemirror_mode": {
    "name": "ipython",
    "version": 3
   },
   "file_extension": ".py",
   "mimetype": "text/x-python",
   "name": "python",
   "nbconvert_exporter": "python",
   "pygments_lexer": "ipython3",
   "version": "3.12.4"
  }
 },
 "nbformat": 4,
 "nbformat_minor": 5
}
