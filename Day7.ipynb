{
 "cells": [
  {
   "cell_type": "code",
   "execution_count": 1,
   "id": "2a4050ad-9acd-4783-8bd0-76753512b4ba",
   "metadata": {},
   "outputs": [
    {
     "name": "stdout",
     "output_type": "stream",
     "text": [
      "Input: [0, 1, 0, 2, 1, 0, 1, 3, 2, 1, 2, 1], Output: 6\n",
      "Input: [4, 2, 0, 3, 2, 5], Output: 9\n"
     ]
    }
   ],
   "source": [
    "from typing import List\n",
    "def trap(height: List[int]) -> int:\n",
    "    if not height:\n",
    "        return 0\n",
    "    n = len(height)\n",
    "    left, right = 0, n - 1\n",
    "    left_max, right_max = 0, 0\n",
    "    water_trapped = 0\n",
    "    while left < right:\n",
    "        if height[left] <= height[right]:\n",
    "            if height[left] >= left_max:\n",
    "                left_max = height[left]\n",
    "            else:\n",
    "                water_trapped += left_max - height[left]\n",
    "            left += 1\n",
    "        else:\n",
    "            if height[right] >= right_max:\n",
    "                right_max = height[right]\n",
    "            else:\n",
    "                water_trapped += right_max - height[right]\n",
    "            right -= 1\n",
    "    return water_trapped\n",
    "height1 = [0, 1, 0, 2, 1, 0, 1, 3, 2, 1, 2, 1]\n",
    "print(f\"Input: {height1}, Output: {trap(height1)}\")\n",
    "height2 = [4, 2, 0, 3, 2, 5]\n",
    "print(f\"Input: {height2}, Output: {trap(height2)}\")"
   ]
  }
 ],
 "metadata": {
  "kernelspec": {
   "display_name": "Python [conda env:base] *",
   "language": "python",
   "name": "conda-base-py"
  },
  "language_info": {
   "codemirror_mode": {
    "name": "ipython",
    "version": 3
   },
   "file_extension": ".py",
   "mimetype": "text/x-python",
   "name": "python",
   "nbconvert_exporter": "python",
   "pygments_lexer": "ipython3",
   "version": "3.12.7"
  }
 },
 "nbformat": 4,
 "nbformat_minor": 5
}
