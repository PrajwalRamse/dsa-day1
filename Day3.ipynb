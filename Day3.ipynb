{
 "cells": [
  {
   "cell_type": "code",
   "execution_count": 1,
   "id": "3aa0a6d1-22a4-46a0-88b8-1d8185ed3d7e",
   "metadata": {},
   "outputs": [
    {
     "name": "stdout",
     "output_type": "stream",
     "text": [
      "2\n",
      "3\n",
      "1\n",
      "4\n",
      "50000\n"
     ]
    }
   ],
   "source": [
    "def findDuplicate(arr):\n",
    "    slow = arr[0]\n",
    "    fast = arr[0]\n",
    "    while True:\n",
    "        slow = arr[slow]          \n",
    "        fast = arr[arr[fast]]     \n",
    "        if slow == fast:          \n",
    "            break\n",
    "    slow = arr[0]                \n",
    "    while slow != fast:\n",
    "        slow = arr[slow]\n",
    "        fast = arr[fast]\n",
    "    return slow\n",
    "print(findDuplicate([1, 3, 4, 2, 2]))        \n",
    "print(findDuplicate([3, 1, 3, 4, 2]))        \n",
    "print(findDuplicate([1, 1]))                 \n",
    "print(findDuplicate([1, 4, 4, 2, 3]))        \n",
    "print(findDuplicate(list(range(1, 100000)) + [50000]))  "
   ]
  },
  {
   "cell_type": "code",
   "execution_count": null,
   "id": "d9d8c64c-a389-4525-88f9-bf1afbd4455c",
   "metadata": {},
   "outputs": [],
   "source": []
  }
 ],
 "metadata": {
  "kernelspec": {
   "display_name": "Python 3 (ipykernel)",
   "language": "python",
   "name": "python3"
  },
  "language_info": {
   "codemirror_mode": {
    "name": "ipython",
    "version": 3
   },
   "file_extension": ".py",
   "mimetype": "text/x-python",
   "name": "python",
   "nbconvert_exporter": "python",
   "pygments_lexer": "ipython3",
   "version": "3.12.4"
  }
 },
 "nbformat": 4,
 "nbformat_minor": 5
}
