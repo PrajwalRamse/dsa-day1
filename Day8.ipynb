{
 "cells": [
  {
   "cell_type": "code",
   "execution_count": 1,
   "id": "3efd3417-0c6b-4221-86cc-583414496ea6",
   "metadata": {},
   "outputs": [
    {
     "name": "stdout",
     "output_type": "stream",
     "text": [
      "Input: \"the sky is blue\"\n",
      "Output: \"blue is sky the\"\n",
      "--------------------\n",
      "Input: \"  hello world  \"\n",
      "Output: \"world hello\"\n",
      "--------------------\n",
      "Input: \"a good   example\"\n",
      "Output: \"example good a\"\n",
      "--------------------\n",
      "Input: \"    \"\n",
      "Output: \"\"\n",
      "--------------------\n",
      "Input: \"word\"\n",
      "Output: \"word\"\n",
      "--------------------\n"
     ]
    }
   ],
   "source": [
    "def reverseWords(s: str) -> str:\n",
    "    words = s.split()\n",
    "    words.reverse()\n",
    "    return \" \".join(words)\n",
    "input1 = \"the sky is blue\"\n",
    "output1 = reverseWords(input1)\n",
    "print(f'Input: \"{input1}\"')\n",
    "print(f'Output: \"{output1}\"')\n",
    "print(\"-\" * 20)\n",
    "\n",
    "input2 = \"  hello world  \"\n",
    "output2 = reverseWords(input2)\n",
    "print(f'Input: \"{input2}\"')\n",
    "print(f'Output: \"{output2}\"')\n",
    "print(\"-\" * 20)\n",
    "\n",
    "input3 = \"a good   example\"\n",
    "output3 = reverseWords(input3)\n",
    "print(f'Input: \"{input3}\"')\n",
    "print(f'Output: \"{output3}\"')\n",
    "print(\"-\" * 20)\n",
    "\n",
    "input4 = \"    \"\n",
    "output4 = reverseWords(input4)\n",
    "print(f'Input: \"{input4}\"')\n",
    "print(f'Output: \"{output4}\"')\n",
    "print(\"-\" * 20)\n",
    "\n",
    "input5 = \"word\"\n",
    "output5 = reverseWords(input5)\n",
    "print(f'Input: \"{input5}\"')\n",
    "print(f'Output: \"{output5}\"')\n",
    "print(\"-\" * 20)"
   ]
  }
 ],
 "metadata": {
  "kernelspec": {
   "display_name": "Python [conda env:base] *",
   "language": "python",
   "name": "conda-base-py"
  },
  "language_info": {
   "codemirror_mode": {
    "name": "ipython",
    "version": 3
   },
   "file_extension": ".py",
   "mimetype": "text/x-python",
   "name": "python",
   "nbconvert_exporter": "python",
   "pygments_lexer": "ipython3",
   "version": "3.12.7"
  }
 },
 "nbformat": 4,
 "nbformat_minor": 5
}
