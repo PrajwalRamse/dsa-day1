{
 "cells": [
  {
   "cell_type": "code",
   "execution_count": 1,
   "id": "81534921-f7cd-4951-831e-19ad6aee3f9b",
   "metadata": {},
   "outputs": [
    {
     "name": "stdout",
     "output_type": "stream",
     "text": [
      "Input: ['flower', 'flow', 'flight'] -> Output: 'fl'\n",
      "Input: ['dog', 'racecar', 'car'] -> Output: ''\n",
      "Input: ['apple', 'ape', 'april'] -> Output: 'ap'\n",
      "Input: [''] -> Output: ''\n",
      "Input: ['alone'] -> Output: 'alone'\n",
      "Input: [] -> Output: ''\n"
     ]
    }
   ],
   "source": [
    "def longestCommonPrefix(strs):\n",
    "    if not strs:\n",
    "        return \"\"\n",
    "    for i in range(len(strs[0])):\n",
    "        char_to_check = strs[0][i]\n",
    "        for j in range(1, len(strs)):\n",
    "            if i >= len(strs[j]) or strs[j][i] != char_to_check:\n",
    "                return strs[0][:i]\n",
    "    return strs[0]\n",
    "print(f\"Input: ['flower', 'flow', 'flight'] -> Output: '{longestCommonPrefix(['flower', 'flow', 'flight'])}'\")\n",
    "print(f\"Input: ['dog', 'racecar', 'car'] -> Output: '{longestCommonPrefix(['dog', 'racecar', 'car'])}'\")\n",
    "print(f\"Input: ['apple', 'ape', 'april'] -> Output: '{longestCommonPrefix(['apple', 'ape', 'april'])}'\")\n",
    "print(f\"Input: [''] -> Output: '{longestCommonPrefix([''])}'\")\n",
    "print(f\"Input: ['alone'] -> Output: '{longestCommonPrefix(['alone'])}'\")\n",
    "print(f\"Input: [] -> Output: '{longestCommonPrefix([])}'\")"
   ]
  }
 ],
 "metadata": {
  "kernelspec": {
   "display_name": "Python [conda env:base] *",
   "language": "python",
   "name": "conda-base-py"
  },
  "language_info": {
   "codemirror_mode": {
    "name": "ipython",
    "version": 3
   },
   "file_extension": ".py",
   "mimetype": "text/x-python",
   "name": "python",
   "nbconvert_exporter": "python",
   "pygments_lexer": "ipython3",
   "version": "3.12.7"
  }
 },
 "nbformat": 4,
 "nbformat_minor": 5
}
